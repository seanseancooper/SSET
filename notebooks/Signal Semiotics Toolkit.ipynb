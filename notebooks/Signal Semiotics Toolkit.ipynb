{
 "cells": [
  {
   "cell_type": "markdown",
   "metadata": {},
   "source": [
    "# Signal Semiotics Toolkit\n",
    "\n",
    "## Overview\n",
    "\n",
    "This toolkit explores a foundational approach to interpreting electromagnetic (EM) emissions as a form of language. We frame signal analysis through two core concepts: **transposition** (making signals perceptible) and **transformation** (making signals intelligible).\n",
    "\n",
    "By treating EM emissions as communicative acts rather than just data or interference, we gain affordances in analysis, understanding, and potentially interaction. This approach draws from semiotics, signal processing, cognitive electronic warfare, and information theory.\n",
    "\n",
    "See [Theory of Signal Semiotics](/docs/theory_of_signal_semiotics.md)"
   ]
  },
  {
   "cell_type": "code",
   "execution_count": null,
   "metadata": {},
   "outputs": [],
   "source": []
  }
 ],
 "metadata": {
  "kernelspec": {
   "display_name": "Python 3",
   "language": "python",
   "name": "python3"
  },
  "language_info": {
   "codemirror_mode": {
    "name": "ipython",
    "version": 3
   },
   "file_extension": ".py",
   "mimetype": "text/x-python",
   "name": "python",
   "nbconvert_exporter": "python",
   "pygments_lexer": "ipython3",
   "version": "3.7.3"
  }
 },
 "nbformat": 4,
 "nbformat_minor": 2
}
